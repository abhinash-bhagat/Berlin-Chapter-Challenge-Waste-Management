{
 "cells": [
  {
   "cell_type": "code",
   "execution_count": 12,
   "metadata": {},
   "outputs": [],
   "source": [
    "import pandas as pd\n",
    "import numpy as np\n",
    "import json \n",
    "import pickle \n",
    "import requests"
   ]
  },
  {
   "cell_type": "code",
   "execution_count": 13,
   "metadata": {},
   "outputs": [
    {
     "name": "stdout",
     "output_type": "stream",
     "text": [
      "200 OK\n",
      "{\"type\":\"FeatureCollection\",\"metadata\":{\"attribution\":\"openrouteservice.org | OpenStreetMap contributors\",\"service\":\"routing\",\"timestamp\":1696221963165,\"query\":{\"coordinates\":[[8.681495,49.41461],[8.687872,49.420318]],\"profile\":\"driving-hgv\",\"format\":\"json\"},\"engine\":{\"version\":\"7.1.0\",\"build_date\":\"2023-07-09T01:31:50Z\",\"graph_date\":\"2023-10-01T08:23:22Z\"}},\"bbox\":[8.681423,49.414599,8.69198,49.420514],\"features\":[{\"bbox\":[8.681423,49.414599,8.69198,49.420514],\"type\":\"Feature\",\"properties\":{\"transfers\":0,\"fare\":0,\"segments\":[{\"distance\":1601.9,\"duration\":284.4,\"steps\":[{\"distance\":1.8,\"duration\":0.4,\"type\":11,\"instruction\":\"Head west on Gerhart-Hauptmann-Straße\",\"name\":\"Gerhart-Hauptmann-Straße\",\"way_points\":[0,1]},{\"distance\":313.8,\"duration\":75.3,\"type\":1,\"instruction\":\"Turn right onto Wielandtstraße\",\"name\":\"Wielandtstraße\",\"way_points\":[1,6]},{\"distance\":737.5,\"duration\":110.5,\"type\":1,\"instruction\":\"Turn right onto Mönchhofstraße\",\"name\":\"Mönchhofstraße\",\"way_points\":[6,21]},{\"distance\":418.1,\"duration\":66.8,\"type\":0,\"instruction\":\"Turn left onto Handschuhsheimer Landstraße, B 3\",\"name\":\"Handschuhsheimer Landstraße, B 3\",\"way_points\":[21,36]},{\"distance\":130.6,\"duration\":31.4,\"type\":0,\"instruction\":\"Turn left onto Roonstraße\",\"name\":\"Roonstraße\",\"way_points\":[36,37]},{\"distance\":0.0,\"duration\":0.0,\"type\":10,\"instruction\":\"Arrive at Roonstraße, straight ahead\",\"name\":\"-\",\"way_points\":[37,37]}]}],\"way_points\":[0,37],\"summary\":{\"distance\":1601.9,\"duration\":284.4}},\"geometry\":{\"coordinates\":[[8.681495,49.414599],[8.68147,49.414599],[8.681488,49.41465],[8.681423,49.415746],[8.681656,49.41659],[8.681826,49.417081],[8.681881,49.417392],[8.682461,49.417389],[8.682676,49.417387],[8.683595,49.417372],[8.68536,49.417365],[8.686407,49.417365],[8.68703,49.41736],[8.687467,49.417351],[8.688212,49.417358],[8.688802,49.417381],[8.690345,49.417424],[8.690434,49.417418],[8.691467,49.417155],[8.691735,49.417102],[8.691805,49.417098],[8.69198,49.417121],[8.691931,49.417235],[8.691817,49.417369],[8.691428,49.417726],[8.691073,49.418051],[8.690936,49.418188],[8.690946,49.41825],[8.69092,49.418378],[8.690912,49.418411],[8.690667,49.418993],[8.690621,49.419095],[8.690391,49.419368],[8.690275,49.419577],[8.690123,49.419833],[8.689854,49.420217],[8.689653,49.420514],[8.687871,49.420322]],\"type\":\"LineString\"}}]}\n"
     ]
    }
   ],
   "source": [
    "# Replace with your API key\n",
    "api_key = \"5b3ce3597851110001cf62481812d7fb40e0470695b078ee763d603e\"\n",
    "\n",
    "# Replace with your specific latitude and longitude coordinates for the starting and ending points\n",
    "start_latitude = 49.41461\n",
    "start_longitude = 8.681495\n",
    "end_latitude = 49.420318\n",
    "end_longitude = 8.687872\n",
    "\n",
    "# Define the URL with the parameters\n",
    "url = f'https://api.openrouteservice.org/v2/directions/driving-hgv?api_key={api_key}&start={start_longitude},{start_latitude}&end={end_longitude},{end_latitude}'\n",
    "\n",
    "# Define the headers for the request\n",
    "headers = {\n",
    "    'Accept': 'application/json, application/geo+json',\n",
    "}\n",
    "\n",
    "# Make the GET request to ORS Directions API\n",
    "response = requests.get(url, headers=headers)\n",
    "\n",
    "# Check the HTTP status code and reason\n",
    "print(response.status_code, response.reason)\n",
    "\n",
    "# Print the response content\n",
    "print(response.text)\n"
   ]
  },
  {
   "cell_type": "code",
   "execution_count": 15,
   "metadata": {},
   "outputs": [
    {
     "name": "stdout",
     "output_type": "stream",
     "text": [
      "Route data saved as 'route_data.geojson'\n"
     ]
    }
   ],
   "source": [
    "if response.status_code == 200:\n",
    "    geojson_data = response.json()  # Updated variable name\n",
    "    \n",
    "    # Save the GeoJSON data to a .geojson file\n",
    "    with open('route_data.geojson', 'w') as geojson_file:\n",
    "        json.dump(geojson_data, geojson_file)\n",
    "    print(\"Route data saved as 'route_data.geojson'\")\n",
    "else:\n",
    "    print(\"Error: Unable to fetch route data\")"
   ]
  },
  {
   "cell_type": "code",
   "execution_count": 17,
   "metadata": {},
   "outputs": [],
   "source": [
    "import folium\n",
    "import json\n",
    "\n",
    "# Load the GeoJSON data from the file\n",
    "with open('route_data.geojson', 'r') as geojson_file:\n",
    "    geojson_data = json.load(geojson_file)\n",
    "\n",
    "# Create a Folium map centered on the route\n",
    "m = folium.Map(location=[49.41461, 8.681495], zoom_start=15)\n",
    "\n",
    "# Add the GeoJSON data to the map as a GeoJson object\n",
    "folium.GeoJson(geojson_data).add_to(m)\n",
    "\n",
    "# Display the map\n",
    "m.save('route_map.html')"
   ]
  }
 ],
 "metadata": {
  "kernelspec": {
   "display_name": "Python 3",
   "language": "python",
   "name": "python3"
  },
  "language_info": {
   "codemirror_mode": {
    "name": "ipython",
    "version": 3
   },
   "file_extension": ".py",
   "mimetype": "text/x-python",
   "name": "python",
   "nbconvert_exporter": "python",
   "pygments_lexer": "ipython3",
   "version": "3.11.0"
  },
  "orig_nbformat": 4
 },
 "nbformat": 4,
 "nbformat_minor": 2
}
