{
 "cells": [
  {
   "cell_type": "code",
   "execution_count": null,
   "id": "5f15d794",
   "metadata": {},
   "outputs": [],
   "source": [
    "!pip install pygwalker\n"
   ]
  },
  {
   "cell_type": "code",
   "execution_count": null,
   "id": "174cdf94",
   "metadata": {},
   "outputs": [],
   "source": [
    "#import sys\n",
    "#!(sys.executable) -m pip install pygwalker -g"
   ]
  },
  {
   "cell_type": "code",
   "execution_count": null,
   "id": "b319a929",
   "metadata": {},
   "outputs": [],
   "source": [
    "import pandas as pd\n",
    "import pygwalker as pyg"
   ]
  },
  {
   "cell_type": "code",
   "execution_count": null,
   "id": "d69c269c",
   "metadata": {},
   "outputs": [],
   "source": [
    "df=pd.read_csv(\"C:\\\\Users\\\\rupas\\\\Downloads\\\\Processed_Datasetswaste_generated_32161-0001.csv\")\n",
    "df.head()"
   ]
  },
  {
   "cell_type": "code",
   "execution_count": null,
   "id": "79769c20",
   "metadata": {
    "scrolled": true
   },
   "outputs": [],
   "source": [
    "pyg.walk(df,dark='dark')"
   ]
  },
  {
   "cell_type": "markdown",
   "id": "44651b41",
   "metadata": {},
   "source": [
    "Inferences\n",
    "1.The amount of waste generated in the year 2014 was the highest.\n",
    "2.The number of etroi_establishments were higher in the year 2018\n",
    "3.Paper and Cardboard Packing has the highest number of etroi_establishments at 39735.\n"
   ]
  },
  {
   "cell_type": "code",
   "execution_count": null,
   "id": "983ca059",
   "metadata": {},
   "outputs": [],
   "source": [
    "vis_spec = r\"\"\"{\"config\":\"[{\\\"visId\\\":\\\"gw_tZcr\\\",\\\"name\\\":\\\"year Vs generated_waste_quantity\\\",\\\"encodings\\\":{\\\"dimensions\\\":[{\\\"dragId\\\":\\\"gw_6PoZ\\\",\\\"fid\\\":\\\"GW_1BBA6IQGC0\\\",\\\"name\\\":\\\"year\\\",\\\"basename\\\":\\\"year\\\",\\\"semanticType\\\":\\\"nominal\\\",\\\"analyticType\\\":\\\"dimension\\\"},{\\\"dragId\\\":\\\"gw_4Gmo\\\",\\\"fid\\\":\\\"GW_6W8NGR74JPZL79YD8TW2IX1DC\\\",\\\"name\\\":\\\"types_of_waste\\\",\\\"basename\\\":\\\"types_of_waste\\\",\\\"semanticType\\\":\\\"nominal\\\",\\\"analyticType\\\":\\\"dimension\\\"}],\\\"measures\\\":[{\\\"dragId\\\":\\\"gw_teeL\\\",\\\"fid\\\":\\\"GW_943084LMSK2YLWBT63C7VUGNVJYFLPBU4SKTZMLJJSPIO\\\",\\\"name\\\":\\\"etroi_establishments_number\\\",\\\"basename\\\":\\\"etroi_establishments_number\\\",\\\"analyticType\\\":\\\"measure\\\",\\\"semanticType\\\":\\\"quantitative\\\",\\\"aggName\\\":\\\"sum\\\"},{\\\"dragId\\\":\\\"gw_MP8T\\\",\\\"fid\\\":\\\"GW_XH261AU4J9MH4I3XQQL97W5DAYL2R2013ZE1M8TS\\\",\\\"name\\\":\\\"generated_waste_quantity\\\",\\\"basename\\\":\\\"generated_waste_quantity\\\",\\\"analyticType\\\":\\\"measure\\\",\\\"semanticType\\\":\\\"quantitative\\\",\\\"aggName\\\":\\\"sum\\\"},{\\\"dragId\\\":\\\"gw_count_fid\\\",\\\"fid\\\":\\\"gw_count_fid\\\",\\\"name\\\":\\\"Row count\\\",\\\"analyticType\\\":\\\"measure\\\",\\\"semanticType\\\":\\\"quantitative\\\",\\\"aggName\\\":\\\"sum\\\",\\\"computed\\\":true,\\\"expression\\\":{\\\"op\\\":\\\"one\\\",\\\"params\\\":[],\\\"as\\\":\\\"gw_count_fid\\\"}}],\\\"rows\\\":[{\\\"dragId\\\":\\\"gw_nWVD\\\",\\\"fid\\\":\\\"GW_XH261AU4J9MH4I3XQQL97W5DAYL2R2013ZE1M8TS\\\",\\\"name\\\":\\\"generated_waste_quantity\\\",\\\"basename\\\":\\\"generated_waste_quantity\\\",\\\"analyticType\\\":\\\"measure\\\",\\\"semanticType\\\":\\\"quantitative\\\",\\\"aggName\\\":\\\"sum\\\"}],\\\"columns\\\":[{\\\"dragId\\\":\\\"gw_2uwM\\\",\\\"fid\\\":\\\"GW_1BBA6IQGC0\\\",\\\"name\\\":\\\"year\\\",\\\"basename\\\":\\\"year\\\",\\\"semanticType\\\":\\\"nominal\\\",\\\"analyticType\\\":\\\"dimension\\\"}],\\\"color\\\":[{\\\"dragId\\\":\\\"gw_CmD-\\\",\\\"fid\\\":\\\"GW_XH261AU4J9MH4I3XQQL97W5DAYL2R2013ZE1M8TS\\\",\\\"name\\\":\\\"generated_waste_quantity\\\",\\\"basename\\\":\\\"generated_waste_quantity\\\",\\\"analyticType\\\":\\\"measure\\\",\\\"semanticType\\\":\\\"quantitative\\\",\\\"aggName\\\":\\\"sum\\\"}],\\\"opacity\\\":[],\\\"size\\\":[],\\\"shape\\\":[{\\\"dragId\\\":\\\"gw_OJSg\\\",\\\"fid\\\":\\\"GW_1BBA6IQGC0\\\",\\\"name\\\":\\\"year\\\",\\\"basename\\\":\\\"year\\\",\\\"semanticType\\\":\\\"nominal\\\",\\\"analyticType\\\":\\\"dimension\\\"}],\\\"radius\\\":[],\\\"theta\\\":[],\\\"longitude\\\":[],\\\"latitude\\\":[],\\\"geoId\\\":[],\\\"details\\\":[],\\\"filters\\\":[],\\\"text\\\":[]},\\\"config\\\":{\\\"defaultAggregated\\\":true,\\\"geoms\\\":[\\\"auto\\\"],\\\"showTableSummary\\\":false,\\\"coordSystem\\\":\\\"generic\\\",\\\"stack\\\":\\\"stack\\\",\\\"showActions\\\":false,\\\"interactiveScale\\\":false,\\\"sorted\\\":\\\"none\\\",\\\"zeroScale\\\":true,\\\"scaleIncludeUnmatchedChoropleth\\\":false,\\\"size\\\":{\\\"mode\\\":\\\"fixed\\\",\\\"width\\\":451,\\\"height\\\":246},\\\"format\\\":{},\\\"geoKey\\\":\\\"name\\\",\\\"resolve\\\":{\\\"x\\\":false,\\\"y\\\":false,\\\"color\\\":false,\\\"opacity\\\":false,\\\"shape\\\":false,\\\"size\\\":false},\\\"limit\\\":-1}},{\\\"visId\\\":\\\"gw_opgv\\\",\\\"name\\\":\\\"etroi_establishments_number Vs types_of_waste\\\",\\\"encodings\\\":{\\\"dimensions\\\":[{\\\"dragId\\\":\\\"gw_Gp1i\\\",\\\"fid\\\":\\\"GW_1BBA6IQGC0\\\",\\\"name\\\":\\\"year\\\",\\\"basename\\\":\\\"year\\\",\\\"semanticType\\\":\\\"nominal\\\",\\\"analyticType\\\":\\\"dimension\\\"},{\\\"dragId\\\":\\\"gw_LcSi\\\",\\\"fid\\\":\\\"GW_6W8NGR74JPZL79YD8TW2IX1DC\\\",\\\"name\\\":\\\"types_of_waste\\\",\\\"basename\\\":\\\"types_of_waste\\\",\\\"semanticType\\\":\\\"nominal\\\",\\\"analyticType\\\":\\\"dimension\\\"}],\\\"measures\\\":[{\\\"dragId\\\":\\\"gw_HXTc\\\",\\\"fid\\\":\\\"GW_943084LMSK2YLWBT63C7VUGNVJYFLPBU4SKTZMLJJSPIO\\\",\\\"name\\\":\\\"etroi_establishments_number\\\",\\\"basename\\\":\\\"etroi_establishments_number\\\",\\\"analyticType\\\":\\\"measure\\\",\\\"semanticType\\\":\\\"quantitative\\\",\\\"aggName\\\":\\\"sum\\\"},{\\\"dragId\\\":\\\"gw_4Zu9\\\",\\\"fid\\\":\\\"GW_XH261AU4J9MH4I3XQQL97W5DAYL2R2013ZE1M8TS\\\",\\\"name\\\":\\\"generated_waste_quantity\\\",\\\"basename\\\":\\\"generated_waste_quantity\\\",\\\"analyticType\\\":\\\"measure\\\",\\\"semanticType\\\":\\\"quantitative\\\",\\\"aggName\\\":\\\"sum\\\"},{\\\"dragId\\\":\\\"gw_count_fid\\\",\\\"fid\\\":\\\"gw_count_fid\\\",\\\"name\\\":\\\"Row count\\\",\\\"analyticType\\\":\\\"measure\\\",\\\"semanticType\\\":\\\"quantitative\\\",\\\"aggName\\\":\\\"sum\\\",\\\"computed\\\":true,\\\"expression\\\":{\\\"op\\\":\\\"one\\\",\\\"params\\\":[],\\\"as\\\":\\\"gw_count_fid\\\"}}],\\\"rows\\\":[{\\\"dragId\\\":\\\"gw_m0sL\\\",\\\"fid\\\":\\\"GW_6W8NGR74JPZL79YD8TW2IX1DC\\\",\\\"name\\\":\\\"types_of_waste\\\",\\\"basename\\\":\\\"types_of_waste\\\",\\\"semanticType\\\":\\\"nominal\\\",\\\"analyticType\\\":\\\"dimension\\\",\\\"sort\\\":\\\"descending\\\"}],\\\"columns\\\":[{\\\"dragId\\\":\\\"gw_uXJb\\\",\\\"fid\\\":\\\"GW_943084LMSK2YLWBT63C7VUGNVJYFLPBU4SKTZMLJJSPIO\\\",\\\"name\\\":\\\"etroi_establishments_number\\\",\\\"basename\\\":\\\"etroi_establishments_number\\\",\\\"analyticType\\\":\\\"measure\\\",\\\"semanticType\\\":\\\"quantitative\\\",\\\"aggName\\\":\\\"sum\\\"}],\\\"color\\\":[],\\\"opacity\\\":[],\\\"size\\\":[],\\\"shape\\\":[],\\\"radius\\\":[],\\\"theta\\\":[],\\\"longitude\\\":[],\\\"latitude\\\":[],\\\"geoId\\\":[],\\\"details\\\":[],\\\"filters\\\":[],\\\"text\\\":[]},\\\"config\\\":{\\\"defaultAggregated\\\":true,\\\"geoms\\\":[\\\"circle\\\"],\\\"showTableSummary\\\":false,\\\"coordSystem\\\":\\\"generic\\\",\\\"stack\\\":\\\"stack\\\",\\\"showActions\\\":false,\\\"interactiveScale\\\":false,\\\"sorted\\\":\\\"none\\\",\\\"zeroScale\\\":true,\\\"scaleIncludeUnmatchedChoropleth\\\":false,\\\"size\\\":{\\\"mode\\\":\\\"fixed\\\",\\\"width\\\":505,\\\"height\\\":520},\\\"format\\\":{},\\\"geoKey\\\":\\\"name\\\",\\\"resolve\\\":{\\\"x\\\":false,\\\"y\\\":false,\\\"color\\\":false,\\\"opacity\\\":false,\\\"shape\\\":false,\\\"size\\\":false},\\\"limit\\\":-1}},{\\\"visId\\\":\\\"gw_arOM\\\",\\\"name\\\":\\\"etroi_establishments_number\\\\t Vs year\\\",\\\"encodings\\\":{\\\"dimensions\\\":[{\\\"dragId\\\":\\\"gw_f6av\\\",\\\"fid\\\":\\\"GW_1BBA6IQGC0\\\",\\\"name\\\":\\\"year\\\",\\\"basename\\\":\\\"year\\\",\\\"semanticType\\\":\\\"nominal\\\",\\\"analyticType\\\":\\\"dimension\\\"},{\\\"dragId\\\":\\\"gw_S_Br\\\",\\\"fid\\\":\\\"GW_6W8NGR74JPZL79YD8TW2IX1DC\\\",\\\"name\\\":\\\"types_of_waste\\\",\\\"basename\\\":\\\"types_of_waste\\\",\\\"semanticType\\\":\\\"nominal\\\",\\\"analyticType\\\":\\\"dimension\\\"}],\\\"measures\\\":[{\\\"dragId\\\":\\\"gw_OdJO\\\",\\\"fid\\\":\\\"GW_943084LMSK2YLWBT63C7VUGNVJYFLPBU4SKTZMLJJSPIO\\\",\\\"name\\\":\\\"etroi_establishments_number\\\",\\\"basename\\\":\\\"etroi_establishments_number\\\",\\\"analyticType\\\":\\\"measure\\\",\\\"semanticType\\\":\\\"quantitative\\\",\\\"aggName\\\":\\\"sum\\\"},{\\\"dragId\\\":\\\"gw_R4I3\\\",\\\"fid\\\":\\\"GW_XH261AU4J9MH4I3XQQL97W5DAYL2R2013ZE1M8TS\\\",\\\"name\\\":\\\"generated_waste_quantity\\\",\\\"basename\\\":\\\"generated_waste_quantity\\\",\\\"analyticType\\\":\\\"measure\\\",\\\"semanticType\\\":\\\"quantitative\\\",\\\"aggName\\\":\\\"sum\\\"},{\\\"dragId\\\":\\\"gw_count_fid\\\",\\\"fid\\\":\\\"gw_count_fid\\\",\\\"name\\\":\\\"Row count\\\",\\\"analyticType\\\":\\\"measure\\\",\\\"semanticType\\\":\\\"quantitative\\\",\\\"aggName\\\":\\\"sum\\\",\\\"computed\\\":true,\\\"expression\\\":{\\\"op\\\":\\\"one\\\",\\\"params\\\":[],\\\"as\\\":\\\"gw_count_fid\\\"}}],\\\"rows\\\":[{\\\"dragId\\\":\\\"gw_fHAO\\\",\\\"fid\\\":\\\"GW_1BBA6IQGC0\\\",\\\"name\\\":\\\"year\\\",\\\"basename\\\":\\\"year\\\",\\\"semanticType\\\":\\\"nominal\\\",\\\"analyticType\\\":\\\"dimension\\\"}],\\\"columns\\\":[{\\\"dragId\\\":\\\"gw_-Y7Y\\\",\\\"fid\\\":\\\"GW_943084LMSK2YLWBT63C7VUGNVJYFLPBU4SKTZMLJJSPIO\\\",\\\"name\\\":\\\"etroi_establishments_number\\\",\\\"basename\\\":\\\"etroi_establishments_number\\\",\\\"analyticType\\\":\\\"measure\\\",\\\"semanticType\\\":\\\"quantitative\\\",\\\"aggName\\\":\\\"sum\\\"}],\\\"color\\\":[{\\\"dragId\\\":\\\"gw_5z68\\\",\\\"fid\\\":\\\"GW_943084LMSK2YLWBT63C7VUGNVJYFLPBU4SKTZMLJJSPIO\\\",\\\"name\\\":\\\"etroi_establishments_number\\\",\\\"basename\\\":\\\"etroi_establishments_number\\\",\\\"analyticType\\\":\\\"measure\\\",\\\"semanticType\\\":\\\"quantitative\\\",\\\"aggName\\\":\\\"sum\\\"}],\\\"opacity\\\":[],\\\"size\\\":[],\\\"shape\\\":[],\\\"radius\\\":[],\\\"theta\\\":[],\\\"longitude\\\":[],\\\"latitude\\\":[],\\\"geoId\\\":[],\\\"details\\\":[],\\\"filters\\\":[],\\\"text\\\":[]},\\\"config\\\":{\\\"defaultAggregated\\\":true,\\\"geoms\\\":[\\\"auto\\\"],\\\"showTableSummary\\\":false,\\\"coordSystem\\\":\\\"generic\\\",\\\"stack\\\":\\\"stack\\\",\\\"showActions\\\":false,\\\"interactiveScale\\\":false,\\\"sorted\\\":\\\"none\\\",\\\"zeroScale\\\":true,\\\"scaleIncludeUnmatchedChoropleth\\\":false,\\\"size\\\":{\\\"mode\\\":\\\"fixed\\\",\\\"width\\\":478,\\\"height\\\":280},\\\"format\\\":{},\\\"geoKey\\\":\\\"name\\\",\\\"resolve\\\":{\\\"x\\\":false,\\\"y\\\":false,\\\"color\\\":false,\\\"opacity\\\":false,\\\"shape\\\":false,\\\"size\\\":false},\\\"limit\\\":-1,\\\"useSvg\\\":true}},{\\\"visId\\\":\\\"gw_h1lP\\\",\\\"name\\\":\\\"Chart 4\\\",\\\"encodings\\\":{\\\"dimensions\\\":[{\\\"dragId\\\":\\\"gw_rUXW\\\",\\\"fid\\\":\\\"GW_1BBA6IQGC0\\\",\\\"name\\\":\\\"year\\\",\\\"basename\\\":\\\"year\\\",\\\"semanticType\\\":\\\"nominal\\\",\\\"analyticType\\\":\\\"dimension\\\"},{\\\"dragId\\\":\\\"gw_qf98\\\",\\\"fid\\\":\\\"GW_6W8NGR74JPZL79YD8TW2IX1DC\\\",\\\"name\\\":\\\"types_of_waste\\\",\\\"basename\\\":\\\"types_of_waste\\\",\\\"semanticType\\\":\\\"nominal\\\",\\\"analyticType\\\":\\\"dimension\\\"}],\\\"measures\\\":[{\\\"dragId\\\":\\\"gw_tB_g\\\",\\\"fid\\\":\\\"GW_943084LMSK2YLWBT63C7VUGNVJYFLPBU4SKTZMLJJSPIO\\\",\\\"name\\\":\\\"etroi_establishments_number\\\",\\\"basename\\\":\\\"etroi_establishments_number\\\",\\\"analyticType\\\":\\\"measure\\\",\\\"semanticType\\\":\\\"quantitative\\\",\\\"aggName\\\":\\\"sum\\\"},{\\\"dragId\\\":\\\"gw_2AIM\\\",\\\"fid\\\":\\\"GW_XH261AU4J9MH4I3XQQL97W5DAYL2R2013ZE1M8TS\\\",\\\"name\\\":\\\"generated_waste_quantity\\\",\\\"basename\\\":\\\"generated_waste_quantity\\\",\\\"analyticType\\\":\\\"measure\\\",\\\"semanticType\\\":\\\"quantitative\\\",\\\"aggName\\\":\\\"sum\\\"},{\\\"dragId\\\":\\\"gw_count_fid\\\",\\\"fid\\\":\\\"gw_count_fid\\\",\\\"name\\\":\\\"Row count\\\",\\\"analyticType\\\":\\\"measure\\\",\\\"semanticType\\\":\\\"quantitative\\\",\\\"aggName\\\":\\\"sum\\\",\\\"computed\\\":true,\\\"expression\\\":{\\\"op\\\":\\\"one\\\",\\\"params\\\":[],\\\"as\\\":\\\"gw_count_fid\\\"}}],\\\"rows\\\":[],\\\"columns\\\":[],\\\"color\\\":[],\\\"opacity\\\":[],\\\"size\\\":[],\\\"shape\\\":[],\\\"radius\\\":[],\\\"theta\\\":[],\\\"longitude\\\":[],\\\"latitude\\\":[],\\\"geoId\\\":[],\\\"details\\\":[],\\\"filters\\\":[],\\\"text\\\":[]},\\\"config\\\":{\\\"defaultAggregated\\\":false,\\\"geoms\\\":[\\\"auto\\\"],\\\"showTableSummary\\\":false,\\\"coordSystem\\\":\\\"generic\\\",\\\"stack\\\":\\\"stack\\\",\\\"showActions\\\":false,\\\"interactiveScale\\\":false,\\\"sorted\\\":\\\"none\\\",\\\"zeroScale\\\":true,\\\"scaleIncludeUnmatchedChoropleth\\\":false,\\\"size\\\":{\\\"mode\\\":\\\"fixed\\\",\\\"width\\\":320,\\\"height\\\":200},\\\"format\\\":{},\\\"geoKey\\\":\\\"name\\\",\\\"resolve\\\":{\\\"x\\\":false,\\\"y\\\":false,\\\"color\\\":false,\\\"opacity\\\":false,\\\"shape\\\":false,\\\"size\\\":false},\\\"limit\\\":-1,\\\"useSvg\\\":false}}]\",\"chart_map\":{},\"version\":\"0.3.7\"}\"\"\"\n",
    "pyg.walk(df, spec=vis_spec, dark='dark')\n"
   ]
  },
  {
   "cell_type": "code",
   "execution_count": null,
   "id": "1162b32a",
   "metadata": {},
   "outputs": [],
   "source": []
  }
 ],
 "metadata": {
  "kernelspec": {
   "display_name": "Python 3 (ipykernel)",
   "language": "python",
   "name": "python3"
  },
  "language_info": {
   "codemirror_mode": {
    "name": "ipython",
    "version": 3
   },
   "file_extension": ".py",
   "mimetype": "text/x-python",
   "name": "python",
   "nbconvert_exporter": "python",
   "pygments_lexer": "ipython3",
   "version": "3.9.12"
  }
 },
 "nbformat": 4,
 "nbformat_minor": 5
}
